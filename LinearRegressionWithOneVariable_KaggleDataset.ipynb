{
 "cells": [
  {
   "cell_type": "code",
   "execution_count": 1,
   "id": "cd5a01c4",
   "metadata": {
    "_cell_guid": "56db7a24-0233-46a2-8379-65fb7675147d",
    "_uuid": "fd995fb2-c1ee-4434-9121-92840639197b",
    "collapsed": false,
    "execution": {
     "iopub.execute_input": "2025-04-27T16:50:48.801490Z",
     "iopub.status.busy": "2025-04-27T16:50:48.801088Z",
     "iopub.status.idle": "2025-04-27T16:50:50.967408Z",
     "shell.execute_reply": "2025-04-27T16:50:50.966283Z"
    },
    "jupyter": {
     "outputs_hidden": false
    },
    "papermill": {
     "duration": 2.176435,
     "end_time": "2025-04-27T16:50:50.969345",
     "exception": false,
     "start_time": "2025-04-27T16:50:48.792910",
     "status": "completed"
    },
    "tags": []
   },
   "outputs": [],
   "source": [
    "import numpy as np # linear algebra\n",
    "import pandas as pd # data processing, CSV file I/O (e.g. pd.read_csv)\n",
    "\n",
    "import matplotlib.pyplot as plt\n",
    "import copy"
   ]
  },
  {
   "cell_type": "code",
   "execution_count": 2,
   "id": "55cf5328",
   "metadata": {
    "execution": {
     "iopub.execute_input": "2025-04-27T16:50:50.985939Z",
     "iopub.status.busy": "2025-04-27T16:50:50.985448Z",
     "iopub.status.idle": "2025-04-27T16:50:50.990602Z",
     "shell.execute_reply": "2025-04-27T16:50:50.989457Z"
    },
    "papermill": {
     "duration": 0.015825,
     "end_time": "2025-04-27T16:50:50.992227",
     "exception": false,
     "start_time": "2025-04-27T16:50:50.976402",
     "status": "completed"
    },
    "tags": []
   },
   "outputs": [],
   "source": [
    "import warnings\n",
    "warnings.filterwarnings('ignore')"
   ]
  },
  {
   "cell_type": "code",
   "execution_count": 3,
   "id": "3c8ac62f",
   "metadata": {
    "execution": {
     "iopub.execute_input": "2025-04-27T16:50:51.006079Z",
     "iopub.status.busy": "2025-04-27T16:50:51.005772Z",
     "iopub.status.idle": "2025-04-27T16:50:51.023225Z",
     "shell.execute_reply": "2025-04-27T16:50:51.022141Z"
    },
    "papermill": {
     "duration": 0.026484,
     "end_time": "2025-04-27T16:50:51.025116",
     "exception": false,
     "start_time": "2025-04-27T16:50:50.998632",
     "status": "completed"
    },
    "tags": []
   },
   "outputs": [
    {
     "name": "stdout",
     "output_type": "stream",
     "text": [
      "/kaggle/input/data-csv/data.csv\n"
     ]
    }
   ],
   "source": [
    "import os\n",
    "for dirname, _, filenames in os.walk('/kaggle/input'):\n",
    "    for filename in filenames:\n",
    "        print(os.path.join(dirname, filename))"
   ]
  },
  {
   "cell_type": "code",
   "execution_count": 4,
   "id": "cd1f427c",
   "metadata": {
    "_cell_guid": "f62ba1b9-d974-488b-baee-daa0df1afaba",
    "_uuid": "c22e4c39-0358-47de-87b3-efdd18abd04e",
    "collapsed": false,
    "execution": {
     "iopub.execute_input": "2025-04-27T16:50:51.042253Z",
     "iopub.status.busy": "2025-04-27T16:50:51.041399Z",
     "iopub.status.idle": "2025-04-27T16:50:51.092132Z",
     "shell.execute_reply": "2025-04-27T16:50:51.091010Z"
    },
    "jupyter": {
     "outputs_hidden": false
    },
    "papermill": {
     "duration": 0.062135,
     "end_time": "2025-04-27T16:50:51.094063",
     "exception": false,
     "start_time": "2025-04-27T16:50:51.031928",
     "status": "completed"
    },
    "tags": []
   },
   "outputs": [],
   "source": [
    "data = pd.read_csv('/kaggle/input/data-csv/data.csv')"
   ]
  },
  {
   "cell_type": "code",
   "execution_count": 5,
   "id": "9631c3e8",
   "metadata": {
    "execution": {
     "iopub.execute_input": "2025-04-27T16:50:51.108144Z",
     "iopub.status.busy": "2025-04-27T16:50:51.107821Z",
     "iopub.status.idle": "2025-04-27T16:50:51.145478Z",
     "shell.execute_reply": "2025-04-27T16:50:51.144480Z"
    },
    "papermill": {
     "duration": 0.046705,
     "end_time": "2025-04-27T16:50:51.147274",
     "exception": false,
     "start_time": "2025-04-27T16:50:51.100569",
     "status": "completed"
    },
    "tags": []
   },
   "outputs": [
    {
     "data": {
      "text/html": [
       "<div>\n",
       "<style scoped>\n",
       "    .dataframe tbody tr th:only-of-type {\n",
       "        vertical-align: middle;\n",
       "    }\n",
       "\n",
       "    .dataframe tbody tr th {\n",
       "        vertical-align: top;\n",
       "    }\n",
       "\n",
       "    .dataframe thead th {\n",
       "        text-align: right;\n",
       "    }\n",
       "</style>\n",
       "<table border=\"1\" class=\"dataframe\">\n",
       "  <thead>\n",
       "    <tr style=\"text-align: right;\">\n",
       "      <th></th>\n",
       "      <th>date</th>\n",
       "      <th>price</th>\n",
       "      <th>bedrooms</th>\n",
       "      <th>bathrooms</th>\n",
       "      <th>sqft_living</th>\n",
       "      <th>sqft_lot</th>\n",
       "      <th>floors</th>\n",
       "      <th>waterfront</th>\n",
       "      <th>view</th>\n",
       "      <th>condition</th>\n",
       "      <th>sqft_above</th>\n",
       "      <th>sqft_basement</th>\n",
       "      <th>yr_built</th>\n",
       "      <th>yr_renovated</th>\n",
       "      <th>street</th>\n",
       "      <th>city</th>\n",
       "      <th>statezip</th>\n",
       "      <th>country</th>\n",
       "    </tr>\n",
       "  </thead>\n",
       "  <tbody>\n",
       "    <tr>\n",
       "      <th>0</th>\n",
       "      <td>2014-05-02 00:00:00</td>\n",
       "      <td>3.130000e+05</td>\n",
       "      <td>3.0</td>\n",
       "      <td>1.50</td>\n",
       "      <td>1340</td>\n",
       "      <td>7912</td>\n",
       "      <td>1.5</td>\n",
       "      <td>0</td>\n",
       "      <td>0</td>\n",
       "      <td>3</td>\n",
       "      <td>1340</td>\n",
       "      <td>0</td>\n",
       "      <td>1955</td>\n",
       "      <td>2005</td>\n",
       "      <td>18810 Densmore Ave N</td>\n",
       "      <td>Shoreline</td>\n",
       "      <td>WA 98133</td>\n",
       "      <td>USA</td>\n",
       "    </tr>\n",
       "    <tr>\n",
       "      <th>1</th>\n",
       "      <td>2014-05-02 00:00:00</td>\n",
       "      <td>2.384000e+06</td>\n",
       "      <td>5.0</td>\n",
       "      <td>2.50</td>\n",
       "      <td>3650</td>\n",
       "      <td>9050</td>\n",
       "      <td>2.0</td>\n",
       "      <td>0</td>\n",
       "      <td>4</td>\n",
       "      <td>5</td>\n",
       "      <td>3370</td>\n",
       "      <td>280</td>\n",
       "      <td>1921</td>\n",
       "      <td>0</td>\n",
       "      <td>709 W Blaine St</td>\n",
       "      <td>Seattle</td>\n",
       "      <td>WA 98119</td>\n",
       "      <td>USA</td>\n",
       "    </tr>\n",
       "    <tr>\n",
       "      <th>2</th>\n",
       "      <td>2014-05-02 00:00:00</td>\n",
       "      <td>3.420000e+05</td>\n",
       "      <td>3.0</td>\n",
       "      <td>2.00</td>\n",
       "      <td>1930</td>\n",
       "      <td>11947</td>\n",
       "      <td>1.0</td>\n",
       "      <td>0</td>\n",
       "      <td>0</td>\n",
       "      <td>4</td>\n",
       "      <td>1930</td>\n",
       "      <td>0</td>\n",
       "      <td>1966</td>\n",
       "      <td>0</td>\n",
       "      <td>26206-26214 143rd Ave SE</td>\n",
       "      <td>Kent</td>\n",
       "      <td>WA 98042</td>\n",
       "      <td>USA</td>\n",
       "    </tr>\n",
       "    <tr>\n",
       "      <th>3</th>\n",
       "      <td>2014-05-02 00:00:00</td>\n",
       "      <td>4.200000e+05</td>\n",
       "      <td>3.0</td>\n",
       "      <td>2.25</td>\n",
       "      <td>2000</td>\n",
       "      <td>8030</td>\n",
       "      <td>1.0</td>\n",
       "      <td>0</td>\n",
       "      <td>0</td>\n",
       "      <td>4</td>\n",
       "      <td>1000</td>\n",
       "      <td>1000</td>\n",
       "      <td>1963</td>\n",
       "      <td>0</td>\n",
       "      <td>857 170th Pl NE</td>\n",
       "      <td>Bellevue</td>\n",
       "      <td>WA 98008</td>\n",
       "      <td>USA</td>\n",
       "    </tr>\n",
       "    <tr>\n",
       "      <th>4</th>\n",
       "      <td>2014-05-02 00:00:00</td>\n",
       "      <td>5.500000e+05</td>\n",
       "      <td>4.0</td>\n",
       "      <td>2.50</td>\n",
       "      <td>1940</td>\n",
       "      <td>10500</td>\n",
       "      <td>1.0</td>\n",
       "      <td>0</td>\n",
       "      <td>0</td>\n",
       "      <td>4</td>\n",
       "      <td>1140</td>\n",
       "      <td>800</td>\n",
       "      <td>1976</td>\n",
       "      <td>1992</td>\n",
       "      <td>9105 170th Ave NE</td>\n",
       "      <td>Redmond</td>\n",
       "      <td>WA 98052</td>\n",
       "      <td>USA</td>\n",
       "    </tr>\n",
       "    <tr>\n",
       "      <th>...</th>\n",
       "      <td>...</td>\n",
       "      <td>...</td>\n",
       "      <td>...</td>\n",
       "      <td>...</td>\n",
       "      <td>...</td>\n",
       "      <td>...</td>\n",
       "      <td>...</td>\n",
       "      <td>...</td>\n",
       "      <td>...</td>\n",
       "      <td>...</td>\n",
       "      <td>...</td>\n",
       "      <td>...</td>\n",
       "      <td>...</td>\n",
       "      <td>...</td>\n",
       "      <td>...</td>\n",
       "      <td>...</td>\n",
       "      <td>...</td>\n",
       "      <td>...</td>\n",
       "    </tr>\n",
       "    <tr>\n",
       "      <th>4595</th>\n",
       "      <td>2014-07-09 00:00:00</td>\n",
       "      <td>3.081667e+05</td>\n",
       "      <td>3.0</td>\n",
       "      <td>1.75</td>\n",
       "      <td>1510</td>\n",
       "      <td>6360</td>\n",
       "      <td>1.0</td>\n",
       "      <td>0</td>\n",
       "      <td>0</td>\n",
       "      <td>4</td>\n",
       "      <td>1510</td>\n",
       "      <td>0</td>\n",
       "      <td>1954</td>\n",
       "      <td>1979</td>\n",
       "      <td>501 N 143rd St</td>\n",
       "      <td>Seattle</td>\n",
       "      <td>WA 98133</td>\n",
       "      <td>USA</td>\n",
       "    </tr>\n",
       "    <tr>\n",
       "      <th>4596</th>\n",
       "      <td>2014-07-09 00:00:00</td>\n",
       "      <td>5.343333e+05</td>\n",
       "      <td>3.0</td>\n",
       "      <td>2.50</td>\n",
       "      <td>1460</td>\n",
       "      <td>7573</td>\n",
       "      <td>2.0</td>\n",
       "      <td>0</td>\n",
       "      <td>0</td>\n",
       "      <td>3</td>\n",
       "      <td>1460</td>\n",
       "      <td>0</td>\n",
       "      <td>1983</td>\n",
       "      <td>2009</td>\n",
       "      <td>14855 SE 10th Pl</td>\n",
       "      <td>Bellevue</td>\n",
       "      <td>WA 98007</td>\n",
       "      <td>USA</td>\n",
       "    </tr>\n",
       "    <tr>\n",
       "      <th>4597</th>\n",
       "      <td>2014-07-09 00:00:00</td>\n",
       "      <td>4.169042e+05</td>\n",
       "      <td>3.0</td>\n",
       "      <td>2.50</td>\n",
       "      <td>3010</td>\n",
       "      <td>7014</td>\n",
       "      <td>2.0</td>\n",
       "      <td>0</td>\n",
       "      <td>0</td>\n",
       "      <td>3</td>\n",
       "      <td>3010</td>\n",
       "      <td>0</td>\n",
       "      <td>2009</td>\n",
       "      <td>0</td>\n",
       "      <td>759 Ilwaco Pl NE</td>\n",
       "      <td>Renton</td>\n",
       "      <td>WA 98059</td>\n",
       "      <td>USA</td>\n",
       "    </tr>\n",
       "    <tr>\n",
       "      <th>4598</th>\n",
       "      <td>2014-07-10 00:00:00</td>\n",
       "      <td>2.034000e+05</td>\n",
       "      <td>4.0</td>\n",
       "      <td>2.00</td>\n",
       "      <td>2090</td>\n",
       "      <td>6630</td>\n",
       "      <td>1.0</td>\n",
       "      <td>0</td>\n",
       "      <td>0</td>\n",
       "      <td>3</td>\n",
       "      <td>1070</td>\n",
       "      <td>1020</td>\n",
       "      <td>1974</td>\n",
       "      <td>0</td>\n",
       "      <td>5148 S Creston St</td>\n",
       "      <td>Seattle</td>\n",
       "      <td>WA 98178</td>\n",
       "      <td>USA</td>\n",
       "    </tr>\n",
       "    <tr>\n",
       "      <th>4599</th>\n",
       "      <td>2014-07-10 00:00:00</td>\n",
       "      <td>2.206000e+05</td>\n",
       "      <td>3.0</td>\n",
       "      <td>2.50</td>\n",
       "      <td>1490</td>\n",
       "      <td>8102</td>\n",
       "      <td>2.0</td>\n",
       "      <td>0</td>\n",
       "      <td>0</td>\n",
       "      <td>4</td>\n",
       "      <td>1490</td>\n",
       "      <td>0</td>\n",
       "      <td>1990</td>\n",
       "      <td>0</td>\n",
       "      <td>18717 SE 258th St</td>\n",
       "      <td>Covington</td>\n",
       "      <td>WA 98042</td>\n",
       "      <td>USA</td>\n",
       "    </tr>\n",
       "  </tbody>\n",
       "</table>\n",
       "<p>4600 rows × 18 columns</p>\n",
       "</div>"
      ],
      "text/plain": [
       "                     date         price  bedrooms  bathrooms  sqft_living  \\\n",
       "0     2014-05-02 00:00:00  3.130000e+05       3.0       1.50         1340   \n",
       "1     2014-05-02 00:00:00  2.384000e+06       5.0       2.50         3650   \n",
       "2     2014-05-02 00:00:00  3.420000e+05       3.0       2.00         1930   \n",
       "3     2014-05-02 00:00:00  4.200000e+05       3.0       2.25         2000   \n",
       "4     2014-05-02 00:00:00  5.500000e+05       4.0       2.50         1940   \n",
       "...                   ...           ...       ...        ...          ...   \n",
       "4595  2014-07-09 00:00:00  3.081667e+05       3.0       1.75         1510   \n",
       "4596  2014-07-09 00:00:00  5.343333e+05       3.0       2.50         1460   \n",
       "4597  2014-07-09 00:00:00  4.169042e+05       3.0       2.50         3010   \n",
       "4598  2014-07-10 00:00:00  2.034000e+05       4.0       2.00         2090   \n",
       "4599  2014-07-10 00:00:00  2.206000e+05       3.0       2.50         1490   \n",
       "\n",
       "      sqft_lot  floors  waterfront  view  condition  sqft_above  \\\n",
       "0         7912     1.5           0     0          3        1340   \n",
       "1         9050     2.0           0     4          5        3370   \n",
       "2        11947     1.0           0     0          4        1930   \n",
       "3         8030     1.0           0     0          4        1000   \n",
       "4        10500     1.0           0     0          4        1140   \n",
       "...        ...     ...         ...   ...        ...         ...   \n",
       "4595      6360     1.0           0     0          4        1510   \n",
       "4596      7573     2.0           0     0          3        1460   \n",
       "4597      7014     2.0           0     0          3        3010   \n",
       "4598      6630     1.0           0     0          3        1070   \n",
       "4599      8102     2.0           0     0          4        1490   \n",
       "\n",
       "      sqft_basement  yr_built  yr_renovated                    street  \\\n",
       "0                 0      1955          2005      18810 Densmore Ave N   \n",
       "1               280      1921             0           709 W Blaine St   \n",
       "2                 0      1966             0  26206-26214 143rd Ave SE   \n",
       "3              1000      1963             0           857 170th Pl NE   \n",
       "4               800      1976          1992         9105 170th Ave NE   \n",
       "...             ...       ...           ...                       ...   \n",
       "4595              0      1954          1979            501 N 143rd St   \n",
       "4596              0      1983          2009          14855 SE 10th Pl   \n",
       "4597              0      2009             0          759 Ilwaco Pl NE   \n",
       "4598           1020      1974             0         5148 S Creston St   \n",
       "4599              0      1990             0         18717 SE 258th St   \n",
       "\n",
       "           city  statezip country  \n",
       "0     Shoreline  WA 98133     USA  \n",
       "1       Seattle  WA 98119     USA  \n",
       "2          Kent  WA 98042     USA  \n",
       "3      Bellevue  WA 98008     USA  \n",
       "4       Redmond  WA 98052     USA  \n",
       "...         ...       ...     ...  \n",
       "4595    Seattle  WA 98133     USA  \n",
       "4596   Bellevue  WA 98007     USA  \n",
       "4597     Renton  WA 98059     USA  \n",
       "4598    Seattle  WA 98178     USA  \n",
       "4599  Covington  WA 98042     USA  \n",
       "\n",
       "[4600 rows x 18 columns]"
      ]
     },
     "execution_count": 5,
     "metadata": {},
     "output_type": "execute_result"
    }
   ],
   "source": [
    "data"
   ]
  },
  {
   "cell_type": "code",
   "execution_count": 6,
   "id": "d28c8eba",
   "metadata": {
    "execution": {
     "iopub.execute_input": "2025-04-27T16:50:51.162883Z",
     "iopub.status.busy": "2025-04-27T16:50:51.161755Z",
     "iopub.status.idle": "2025-04-27T16:50:51.168294Z",
     "shell.execute_reply": "2025-04-27T16:50:51.167273Z"
    },
    "papermill": {
     "duration": 0.015737,
     "end_time": "2025-04-27T16:50:51.169970",
     "exception": false,
     "start_time": "2025-04-27T16:50:51.154233",
     "status": "completed"
    },
    "tags": []
   },
   "outputs": [],
   "source": [
    "x_data = data['sqft_living']\n",
    "y_data = data['price']"
   ]
  },
  {
   "cell_type": "code",
   "execution_count": 7,
   "id": "8f71625e",
   "metadata": {
    "execution": {
     "iopub.execute_input": "2025-04-27T16:50:51.184889Z",
     "iopub.status.busy": "2025-04-27T16:50:51.184532Z",
     "iopub.status.idle": "2025-04-27T16:50:51.192503Z",
     "shell.execute_reply": "2025-04-27T16:50:51.191558Z"
    },
    "papermill": {
     "duration": 0.017208,
     "end_time": "2025-04-27T16:50:51.194121",
     "exception": false,
     "start_time": "2025-04-27T16:50:51.176913",
     "status": "completed"
    },
    "tags": []
   },
   "outputs": [
    {
     "data": {
      "text/plain": [
       "0       1340\n",
       "1       3650\n",
       "2       1930\n",
       "3       2000\n",
       "4       1940\n",
       "        ... \n",
       "4595    1510\n",
       "4596    1460\n",
       "4597    3010\n",
       "4598    2090\n",
       "4599    1490\n",
       "Name: sqft_living, Length: 4600, dtype: int64"
      ]
     },
     "execution_count": 7,
     "metadata": {},
     "output_type": "execute_result"
    }
   ],
   "source": [
    "x_data"
   ]
  },
  {
   "cell_type": "code",
   "execution_count": 8,
   "id": "03874e6d",
   "metadata": {
    "execution": {
     "iopub.execute_input": "2025-04-27T16:50:51.210078Z",
     "iopub.status.busy": "2025-04-27T16:50:51.209758Z",
     "iopub.status.idle": "2025-04-27T16:50:51.217423Z",
     "shell.execute_reply": "2025-04-27T16:50:51.216530Z"
    },
    "papermill": {
     "duration": 0.017386,
     "end_time": "2025-04-27T16:50:51.219046",
     "exception": false,
     "start_time": "2025-04-27T16:50:51.201660",
     "status": "completed"
    },
    "tags": []
   },
   "outputs": [
    {
     "data": {
      "text/plain": [
       "0       3.130000e+05\n",
       "1       2.384000e+06\n",
       "2       3.420000e+05\n",
       "3       4.200000e+05\n",
       "4       5.500000e+05\n",
       "            ...     \n",
       "4595    3.081667e+05\n",
       "4596    5.343333e+05\n",
       "4597    4.169042e+05\n",
       "4598    2.034000e+05\n",
       "4599    2.206000e+05\n",
       "Name: price, Length: 4600, dtype: float64"
      ]
     },
     "execution_count": 8,
     "metadata": {},
     "output_type": "execute_result"
    }
   ],
   "source": [
    "y_data"
   ]
  },
  {
   "cell_type": "code",
   "execution_count": 9,
   "id": "152f3200",
   "metadata": {
    "execution": {
     "iopub.execute_input": "2025-04-27T16:50:51.234726Z",
     "iopub.status.busy": "2025-04-27T16:50:51.234395Z",
     "iopub.status.idle": "2025-04-27T16:50:51.240529Z",
     "shell.execute_reply": "2025-04-27T16:50:51.239577Z"
    },
    "papermill": {
     "duration": 0.015992,
     "end_time": "2025-04-27T16:50:51.242168",
     "exception": false,
     "start_time": "2025-04-27T16:50:51.226176",
     "status": "completed"
    },
    "tags": []
   },
   "outputs": [
    {
     "data": {
      "text/plain": [
       "(4600, 4600)"
      ]
     },
     "execution_count": 9,
     "metadata": {},
     "output_type": "execute_result"
    }
   ],
   "source": [
    "len(x_data), len(y_data)"
   ]
  },
  {
   "cell_type": "code",
   "execution_count": 10,
   "id": "663cfe28",
   "metadata": {
    "execution": {
     "iopub.execute_input": "2025-04-27T16:50:51.258381Z",
     "iopub.status.busy": "2025-04-27T16:50:51.258062Z",
     "iopub.status.idle": "2025-04-27T16:50:51.263723Z",
     "shell.execute_reply": "2025-04-27T16:50:51.262656Z"
    },
    "papermill": {
     "duration": 0.015947,
     "end_time": "2025-04-27T16:50:51.265511",
     "exception": false,
     "start_time": "2025-04-27T16:50:51.249564",
     "status": "completed"
    },
    "tags": []
   },
   "outputs": [],
   "source": [
    "def train_validation_split(x, y, validation_size=0.2, random_state=None):\n",
    "    x_validation = x.sample(frac=validation_size, random_state=random_state)\n",
    "    y_validation = y[x_validation.index]\n",
    "    x_train = x.drop(x_validation.index)\n",
    "    y_train = y.drop(y_validation.index)\n",
    "\n",
    "    return np.array(x_train), np.array(y_train), np.array(x_validation), np.array(y_validation)"
   ]
  },
  {
   "cell_type": "code",
   "execution_count": 11,
   "id": "b1aa80db",
   "metadata": {
    "execution": {
     "iopub.execute_input": "2025-04-27T16:50:51.281030Z",
     "iopub.status.busy": "2025-04-27T16:50:51.280737Z",
     "iopub.status.idle": "2025-04-27T16:50:51.293093Z",
     "shell.execute_reply": "2025-04-27T16:50:51.292167Z"
    },
    "papermill": {
     "duration": 0.022462,
     "end_time": "2025-04-27T16:50:51.294942",
     "exception": false,
     "start_time": "2025-04-27T16:50:51.272480",
     "status": "completed"
    },
    "tags": []
   },
   "outputs": [],
   "source": [
    "x_train, y_train, x_validation, y_validation = train_validation_split(x_data, y_data, validation_size=0.2, random_state=15)"
   ]
  },
  {
   "cell_type": "code",
   "execution_count": 12,
   "id": "fd9b94cf",
   "metadata": {
    "_cell_guid": "3c2bd7c4-fbcd-4144-b9e7-fd8a37f4fad4",
    "_uuid": "962c4d91-63a4-43f3-8365-3d3067c6f2fd",
    "collapsed": false,
    "execution": {
     "iopub.execute_input": "2025-04-27T16:50:51.310853Z",
     "iopub.status.busy": "2025-04-27T16:50:51.310477Z",
     "iopub.status.idle": "2025-04-27T16:50:51.316469Z",
     "shell.execute_reply": "2025-04-27T16:50:51.315487Z"
    },
    "jupyter": {
     "outputs_hidden": false
    },
    "papermill": {
     "duration": 0.015532,
     "end_time": "2025-04-27T16:50:51.318093",
     "exception": false,
     "start_time": "2025-04-27T16:50:51.302561",
     "status": "completed"
    },
    "tags": []
   },
   "outputs": [
    {
     "data": {
      "text/plain": [
       "(3680, 3680)"
      ]
     },
     "execution_count": 12,
     "metadata": {},
     "output_type": "execute_result"
    }
   ],
   "source": [
    "len(x_train), len(y_train)"
   ]
  },
  {
   "cell_type": "code",
   "execution_count": 13,
   "id": "0366f5c4",
   "metadata": {
    "_cell_guid": "b4d4f004-8c95-4835-987d-3c0445626228",
    "_uuid": "582cc8f4-c96f-45e6-aa2e-9a3b039dc4a1",
    "collapsed": false,
    "execution": {
     "iopub.execute_input": "2025-04-27T16:50:51.333242Z",
     "iopub.status.busy": "2025-04-27T16:50:51.332963Z",
     "iopub.status.idle": "2025-04-27T16:50:51.339073Z",
     "shell.execute_reply": "2025-04-27T16:50:51.338206Z"
    },
    "jupyter": {
     "outputs_hidden": false
    },
    "papermill": {
     "duration": 0.015505,
     "end_time": "2025-04-27T16:50:51.340592",
     "exception": false,
     "start_time": "2025-04-27T16:50:51.325087",
     "status": "completed"
    },
    "tags": []
   },
   "outputs": [
    {
     "data": {
      "text/plain": [
       "(3680, 3680)"
      ]
     },
     "execution_count": 13,
     "metadata": {},
     "output_type": "execute_result"
    }
   ],
   "source": [
    "len(x_train), len(y_train)"
   ]
  },
  {
   "cell_type": "code",
   "execution_count": 14,
   "id": "290ff501",
   "metadata": {
    "_cell_guid": "4b157b36-c2c6-47d5-ac54-9e5622494f06",
    "_uuid": "98260440-8d1d-496e-bd26-5c85da736b54",
    "collapsed": false,
    "execution": {
     "iopub.execute_input": "2025-04-27T16:50:51.356208Z",
     "iopub.status.busy": "2025-04-27T16:50:51.355934Z",
     "iopub.status.idle": "2025-04-27T16:50:51.361762Z",
     "shell.execute_reply": "2025-04-27T16:50:51.360760Z"
    },
    "jupyter": {
     "outputs_hidden": false
    },
    "papermill": {
     "duration": 0.015557,
     "end_time": "2025-04-27T16:50:51.363216",
     "exception": false,
     "start_time": "2025-04-27T16:50:51.347659",
     "status": "completed"
    },
    "tags": []
   },
   "outputs": [
    {
     "data": {
      "text/plain": [
       "(920, 920)"
      ]
     },
     "execution_count": 14,
     "metadata": {},
     "output_type": "execute_result"
    }
   ],
   "source": [
    "len(x_validation), len(y_validation)"
   ]
  },
  {
   "cell_type": "code",
   "execution_count": 15,
   "id": "6e6e4637",
   "metadata": {
    "execution": {
     "iopub.execute_input": "2025-04-27T16:50:51.379661Z",
     "iopub.status.busy": "2025-04-27T16:50:51.379318Z",
     "iopub.status.idle": "2025-04-27T16:50:51.385273Z",
     "shell.execute_reply": "2025-04-27T16:50:51.384566Z"
    },
    "papermill": {
     "duration": 0.016448,
     "end_time": "2025-04-27T16:50:51.386828",
     "exception": false,
     "start_time": "2025-04-27T16:50:51.370380",
     "status": "completed"
    },
    "tags": []
   },
   "outputs": [
    {
     "data": {
      "text/plain": [
       "array([1340, 3650, 1940, ..., 1460, 3010, 1490])"
      ]
     },
     "execution_count": 15,
     "metadata": {},
     "output_type": "execute_result"
    }
   ],
   "source": [
    "x_train"
   ]
  },
  {
   "cell_type": "code",
   "execution_count": 16,
   "id": "63de8252",
   "metadata": {
    "execution": {
     "iopub.execute_input": "2025-04-27T16:50:51.402550Z",
     "iopub.status.busy": "2025-04-27T16:50:51.402250Z",
     "iopub.status.idle": "2025-04-27T16:50:51.408764Z",
     "shell.execute_reply": "2025-04-27T16:50:51.408000Z"
    },
    "papermill": {
     "duration": 0.016008,
     "end_time": "2025-04-27T16:50:51.410284",
     "exception": false,
     "start_time": "2025-04-27T16:50:51.394276",
     "status": "completed"
    },
    "tags": []
   },
   "outputs": [
    {
     "data": {
      "text/plain": [
       "array([ 313000.      , 2384000.      ,  550000.      , ...,\n",
       "        534333.333333,  416904.166667,  220600.      ])"
      ]
     },
     "execution_count": 16,
     "metadata": {},
     "output_type": "execute_result"
    }
   ],
   "source": [
    "y_train"
   ]
  },
  {
   "cell_type": "code",
   "execution_count": 17,
   "id": "c63447ee",
   "metadata": {
    "_cell_guid": "009f7053-c3da-4541-b330-084115afaf32",
    "_uuid": "52f7414b-553f-4d57-9392-34001321ef13",
    "collapsed": false,
    "execution": {
     "iopub.execute_input": "2025-04-27T16:50:51.427173Z",
     "iopub.status.busy": "2025-04-27T16:50:51.426856Z",
     "iopub.status.idle": "2025-04-27T16:50:51.721620Z",
     "shell.execute_reply": "2025-04-27T16:50:51.720406Z"
    },
    "jupyter": {
     "outputs_hidden": false
    },
    "papermill": {
     "duration": 0.305336,
     "end_time": "2025-04-27T16:50:51.723312",
     "exception": false,
     "start_time": "2025-04-27T16:50:51.417976",
     "status": "completed"
    },
    "tags": []
   },
   "outputs": [
    {
     "data": {
      "image/png": "[encoded data removed]",
      "text/plain": [
       "<Figure size 640x480 with 1 Axes>"
      ]
     },
     "metadata": {},
     "output_type": "display_data"
    }
   ],
   "source": [
    "plt.scatter(x_train, y_train)\n",
    "plt.title(\"Train Data: House Size vs Price\")\n",
    "plt.xlabel(\"Size of house in sq meters\")\n",
    "plt.ylabel(\"Price\")\n",
    "plt.show()"
   ]
  },
  {
   "cell_type": "code",
   "execution_count": 18,
   "id": "591ea64a",
   "metadata": {
    "_cell_guid": "0f95b5f5-59f8-4616-b0aa-1f5c84cc9a38",
    "_uuid": "1eff7a0f-6f1f-40f1-a3ef-830239ae9ffa",
    "collapsed": false,
    "execution": {
     "iopub.execute_input": "2025-04-27T16:50:51.740932Z",
     "iopub.status.busy": "2025-04-27T16:50:51.740589Z",
     "iopub.status.idle": "2025-04-27T16:50:51.746384Z",
     "shell.execute_reply": "2025-04-27T16:50:51.745412Z"
    },
    "jupyter": {
     "outputs_hidden": false
    },
    "papermill": {
     "duration": 0.016483,
     "end_time": "2025-04-27T16:50:51.748001",
     "exception": false,
     "start_time": "2025-04-27T16:50:51.731518",
     "status": "completed"
    },
    "tags": []
   },
   "outputs": [
    {
     "data": {
      "text/plain": [
       "(3680,)"
      ]
     },
     "execution_count": 18,
     "metadata": {},
     "output_type": "execute_result"
    }
   ],
   "source": [
    "x_train.shape"
   ]
  },
  {
   "cell_type": "code",
   "execution_count": 19,
   "id": "a79f228b",
   "metadata": {
    "_cell_guid": "4308419c-d30c-4a1e-9430-0ea1f6c2eb74",
    "_uuid": "2cb694e3-5dd6-4352-aeec-7ce4b4092f01",
    "collapsed": false,
    "execution": {
     "iopub.execute_input": "2025-04-27T16:50:51.765815Z",
     "iopub.status.busy": "2025-04-27T16:50:51.764931Z",
     "iopub.status.idle": "2025-04-27T16:50:51.770576Z",
     "shell.execute_reply": "2025-04-27T16:50:51.769568Z"
    },
    "jupyter": {
     "outputs_hidden": false
    },
    "papermill": {
     "duration": 0.016025,
     "end_time": "2025-04-27T16:50:51.772207",
     "exception": false,
     "start_time": "2025-04-27T16:50:51.756182",
     "status": "completed"
    },
    "tags": []
   },
   "outputs": [],
   "source": [
    "def compute_cost(x, y, w, b):\n",
    "    m = x.shape[0]\n",
    "    cost = 0\n",
    "    for i in range(0,m):\n",
    "        f_wb = w * x[i] + b\n",
    "        cost += (f_wb - y[i])**2\n",
    "    total_cost = cost / (2 * m)\n",
    "    return total_cost"
   ]
  },
  {
   "cell_type": "code",
   "execution_count": 20,
   "id": "441df8e1",
   "metadata": {
    "_cell_guid": "8002a362-1ad1-4ace-a75d-625fc5a7631d",
    "_uuid": "d3583d46-b580-4749-811b-5c469d789c34",
    "collapsed": false,
    "execution": {
     "iopub.execute_input": "2025-04-27T16:50:51.789398Z",
     "iopub.status.busy": "2025-04-27T16:50:51.789065Z",
     "iopub.status.idle": "2025-04-27T16:50:51.794429Z",
     "shell.execute_reply": "2025-04-27T16:50:51.793669Z"
    },
    "jupyter": {
     "outputs_hidden": false
    },
    "papermill": {
     "duration": 0.015664,
     "end_time": "2025-04-27T16:50:51.795895",
     "exception": false,
     "start_time": "2025-04-27T16:50:51.780231",
     "status": "completed"
    },
    "tags": []
   },
   "outputs": [],
   "source": [
    "def compute_gradients(x, y, w, b):\n",
    "    m = x.shape[0]\n",
    "    dj_dw = 0\n",
    "    dj_db = 0\n",
    "    for i in range(0, m):\n",
    "        f_wb = w * x[i] + b\n",
    "        dj_dw += (f_wb - y[i]) * x[i]\n",
    "        dj_db += (f_wb - y[i])\n",
    "    dj_dw = dj_dw / m\n",
    "    dj_db = dj_db / m\n",
    "    return dj_dw, dj_db"
   ]
  },
  {
   "cell_type": "code",
   "execution_count": 21,
   "id": "76e3a949",
   "metadata": {
    "_cell_guid": "7be8c25b-5746-461b-9dd7-ad14dfce808a",
    "_uuid": "ac7ff6ef-1756-48de-a148-e23364dc7c17",
    "collapsed": false,
    "execution": {
     "iopub.execute_input": "2025-04-27T16:50:51.812655Z",
     "iopub.status.busy": "2025-04-27T16:50:51.812329Z",
     "iopub.status.idle": "2025-04-27T16:50:51.818744Z",
     "shell.execute_reply": "2025-04-27T16:50:51.817693Z"
    },
    "jupyter": {
     "outputs_hidden": false
    },
    "papermill": {
     "duration": 0.016481,
     "end_time": "2025-04-27T16:50:51.820147",
     "exception": false,
     "start_time": "2025-04-27T16:50:51.803666",
     "status": "completed"
    },
    "tags": []
   },
   "outputs": [],
   "source": [
    "def gradient_descent(x, y, w_in, b_in, alpha, num_inters, cost_function, gradient_function):\n",
    "    w = copy.deepcopy(w_in)\n",
    "    b = copy.deepcopy(b_in)\n",
    "    J_history=[]\n",
    "    for i in range(0, num_inters):\n",
    "        dj_dw, dj_db = gradient_function(x, y, w, b)\n",
    "        w = w - alpha * dj_dw\n",
    "        b = b - alpha * dj_db\n",
    "        J_history.append(cost_function(x, y, w, b))\n",
    "        print(f\"Iteration: {i} | Cost: {J_history[i]:.4} | dj_dw: {dj_dw:.4} | dj_db: {dj_db:.4} | w: {w:.4} | b: {b:.4}\")\n",
    "    return w, b, J_history"
   ]
  },
  {
   "cell_type": "code",
   "execution_count": 22,
   "id": "409b23d9",
   "metadata": {
    "_cell_guid": "f6885d74-c039-432d-98eb-a78ecc303ce3",
    "_uuid": "0a1022ab-14d4-4cf0-9216-61b8658e7513",
    "collapsed": false,
    "execution": {
     "iopub.execute_input": "2025-04-27T16:50:51.837357Z",
     "iopub.status.busy": "2025-04-27T16:50:51.837029Z",
     "iopub.status.idle": "2025-04-27T16:50:51.982313Z",
     "shell.execute_reply": "2025-04-27T16:50:51.981269Z"
    },
    "jupyter": {
     "outputs_hidden": false
    },
    "papermill": {
     "duration": 0.156011,
     "end_time": "2025-04-27T16:50:51.984087",
     "exception": false,
     "start_time": "2025-04-27T16:50:51.828076",
     "status": "completed"
    },
    "tags": []
   },
   "outputs": [
    {
     "name": "stdout",
     "output_type": "stream",
     "text": [
      "Iteration: 0 | Cost: 2.249e+11 | dj_dw: -1.406e+09 | dj_db: -5.535e+05 | w: 421.8 | b: 0.166\n",
      "Iteration: 1 | Cost: 1.811e+11 | dj_dw: 9.003e+08 | dj_db: 3.471e+05 | w: 151.8 | b: 0.06192\n",
      "Iteration: 2 | Cost: 1.632e+11 | dj_dw: -5.764e+08 | dj_db: -2.295e+05 | w: 324.7 | b: 0.1308\n",
      "Iteration: 3 | Cost: 1.559e+11 | dj_dw: 3.69e+08 | dj_db: 1.396e+05 | w: 214.0 | b: 0.08888\n",
      "Iteration: 4 | Cost: 1.529e+11 | dj_dw: -2.363e+08 | dj_db: -9.67e+04 | w: 284.8 | b: 0.1179\n",
      "Iteration: 5 | Cost: 1.516e+11 | dj_dw: 1.513e+08 | dj_db: 5.462e+04 | w: 239.5 | b: 0.1015\n",
      "Iteration: 6 | Cost: 1.511e+11 | dj_dw: -9.685e+07 | dj_db: -4.226e+04 | w: 268.5 | b: 0.1142\n",
      "Iteration: 7 | Cost: 1.509e+11 | dj_dw: 6.201e+07 | dj_db: 1.977e+04 | w: 249.9 | b: 0.1083\n",
      "Iteration: 8 | Cost: 1.508e+11 | dj_dw: -3.97e+07 | dj_db: -1.995e+04 | w: 261.8 | b: 0.1142\n",
      "Iteration: 9 | Cost: 1.508e+11 | dj_dw: 2.542e+07 | dj_db: 5.479e+03 | w: 254.2 | b: 0.1126\n",
      "Iteration: 10 | Cost: 1.508e+11 | dj_dw: -1.627e+07 | dj_db: -1.08e+04 | w: 259.1 | b: 0.1158\n",
      "Iteration: 11 | Cost: 1.508e+11 | dj_dw: 1.042e+07 | dj_db: -377.0 | w: 256.0 | b: 0.1159\n",
      "Iteration: 12 | Cost: 1.508e+11 | dj_dw: -6.671e+06 | dj_db: -7.05e+03 | w: 258.0 | b: 0.1181\n",
      "Iteration: 13 | Cost: 1.508e+11 | dj_dw: 4.271e+06 | dj_db: -2.778e+03 | w: 256.7 | b: 0.1189\n",
      "Iteration: 14 | Cost: 1.508e+11 | dj_dw: -2.734e+06 | dj_db: -5.513e+03 | w: 257.5 | b: 0.1205\n",
      "Iteration: 15 | Cost: 1.508e+11 | dj_dw: 1.751e+06 | dj_db: -3.762e+03 | w: 257.0 | b: 0.1217\n",
      "Iteration: 16 | Cost: 1.508e+11 | dj_dw: -1.121e+06 | dj_db: -4.883e+03 | w: 257.3 | b: 0.1231\n",
      "Iteration: 17 | Cost: 1.508e+11 | dj_dw: 7.176e+05 | dj_db: -4.165e+03 | w: 257.1 | b: 0.1244\n",
      "Iteration: 18 | Cost: 1.508e+11 | dj_dw: -4.595e+05 | dj_db: -4.625e+03 | w: 257.2 | b: 0.1258\n",
      "Iteration: 19 | Cost: 1.508e+11 | dj_dw: 2.942e+05 | dj_db: -4.33e+03 | w: 257.1 | b: 0.1271\n",
      "(w,b) found by gradient descent equal to (257.1, 0.1271)\n"
     ]
    }
   ],
   "source": [
    "w_init = 0\n",
    "b_init = 0\n",
    "test = []\n",
    "iterations = 20\n",
    "alpha = 3.0e-7\n",
    "w_final, b_final, J_history = gradient_descent(x=x_train, y=y_train, alpha=alpha, w_in=w_init, b_in=b_init, num_inters=iterations, cost_function=compute_cost, gradient_function=compute_gradients)\n",
    "print(f\"(w,b) found by gradient descent equal to ({w_final:.4}, {b_final:.4})\")"
   ]
  },
  {
   "cell_type": "code",
   "execution_count": 23,
   "id": "e4d51f2e",
   "metadata": {
    "_cell_guid": "965409f6-f49c-4bfc-946f-994980b7c2cb",
    "_uuid": "15a7f86c-c737-4a3b-a8f0-26c9fd7462c5",
    "collapsed": false,
    "execution": {
     "iopub.execute_input": "2025-04-27T16:50:52.071858Z",
     "iopub.status.busy": "2025-04-27T16:50:52.071471Z",
     "iopub.status.idle": "2025-04-27T16:50:52.077978Z",
     "shell.execute_reply": "2025-04-27T16:50:52.076888Z"
    },
    "jupyter": {
     "outputs_hidden": false
    },
    "papermill": {
     "duration": 0.087444,
     "end_time": "2025-04-27T16:50:52.079695",
     "exception": false,
     "start_time": "2025-04-27T16:50:51.992251",
     "status": "completed"
    },
    "tags": []
   },
   "outputs": [
    {
     "data": {
      "text/plain": [
       "[224875100579.5237,\n",
       " 181140373458.72595,\n",
       " 163212898078.98486,\n",
       " 155864175570.80927,\n",
       " 152851831590.6748,\n",
       " 151617029724.12943,\n",
       " 151110867192.26144,\n",
       " 150903384098.69226,\n",
       " 150818333877.7624,\n",
       " 150783470601.02957,\n",
       " 150769179653.55402,\n",
       " 150763321591.12094,\n",
       " 150760920286.02744,\n",
       " 150759935954.03873,\n",
       " 150759532459.113,\n",
       " 150759367057.4105,\n",
       " 150759299253.4448,\n",
       " 150759271456.15427,\n",
       " 150759260058.1588,\n",
       " 150759255382.46347]"
      ]
     },
     "execution_count": 23,
     "metadata": {},
     "output_type": "execute_result"
    }
   ],
   "source": [
    "J_history"
   ]
  },
  {
   "cell_type": "code",
   "execution_count": 24,
   "id": "69f7fc0b",
   "metadata": {
    "_cell_guid": "560ea960-0a49-46b0-81f2-8095d915ffc4",
    "_uuid": "0095708f-ab95-42a7-917e-7ac924249453",
    "collapsed": false,
    "execution": {
     "iopub.execute_input": "2025-04-27T16:50:52.098131Z",
     "iopub.status.busy": "2025-04-27T16:50:52.097776Z",
     "iopub.status.idle": "2025-04-27T16:50:52.370765Z",
     "shell.execute_reply": "2025-04-27T16:50:52.369745Z"
    },
    "jupyter": {
     "outputs_hidden": false
    },
    "papermill": {
     "duration": 0.284323,
     "end_time": "2025-04-27T16:50:52.372535",
     "exception": false,
     "start_time": "2025-04-27T16:50:52.088212",
     "status": "completed"
    },
    "tags": []
   },
   "outputs": [
    {
     "data": {
      "image/png": "[encoded data removed]",
      "text/plain": [
       "<Figure size 640x480 with 1 Axes>"
      ]
     },
     "metadata": {},
     "output_type": "display_data"
    }
   ],
   "source": [
    "plt.plot(J_history)\n",
    "plt.title(\"Loss evolution (Cost Function per iteration)\")\n",
    "plt.xlabel(\"Iteration number\")\n",
    "plt.ylabel(\"Cost Function\")\n",
    "plt.show()"
   ]
  },
  {
   "cell_type": "code",
   "execution_count": 25,
   "id": "d4a993f6",
   "metadata": {
    "_cell_guid": "825f0767-2643-410f-95cd-5ead80933347",
    "_uuid": "90514d88-ddf6-4524-b692-210d2da93d6e",
    "collapsed": false,
    "execution": {
     "iopub.execute_input": "2025-04-27T16:50:52.392016Z",
     "iopub.status.busy": "2025-04-27T16:50:52.391665Z",
     "iopub.status.idle": "2025-04-27T16:50:52.396755Z",
     "shell.execute_reply": "2025-04-27T16:50:52.395778Z"
    },
    "jupyter": {
     "outputs_hidden": false
    },
    "papermill": {
     "duration": 0.016514,
     "end_time": "2025-04-27T16:50:52.398412",
     "exception": false,
     "start_time": "2025-04-27T16:50:52.381898",
     "status": "completed"
    },
    "tags": []
   },
   "outputs": [],
   "source": [
    "def r2_score(y, y_):\n",
    "    num = np.sum((y - y_)**2)\n",
    "    denom = np.sum((y - y.mean())**2)\n",
    "    score = 1 - num / denom\n",
    "    return score"
   ]
  },
  {
   "cell_type": "code",
   "execution_count": 26,
   "id": "37fe6942",
   "metadata": {
    "_cell_guid": "6c185a8b-2f79-4fe0-a05e-5a7904402ee9",
    "_uuid": "c37d3f7f-1af8-4756-9922-6b36451cf277",
    "collapsed": false,
    "execution": {
     "iopub.execute_input": "2025-04-27T16:50:52.416763Z",
     "iopub.status.busy": "2025-04-27T16:50:52.416457Z",
     "iopub.status.idle": "2025-04-27T16:50:52.422464Z",
     "shell.execute_reply": "2025-04-27T16:50:52.421487Z"
    },
    "jupyter": {
     "outputs_hidden": false
    },
    "papermill": {
     "duration": 0.016915,
     "end_time": "2025-04-27T16:50:52.424058",
     "exception": false,
     "start_time": "2025-04-27T16:50:52.407143",
     "status": "completed"
    },
    "tags": []
   },
   "outputs": [],
   "source": [
    "y_predicted_train = [w_final * i + b_final for i in x_train]"
   ]
  },
  {
   "cell_type": "code",
   "execution_count": 27,
   "id": "3e6b0bd7",
   "metadata": {
    "_cell_guid": "37c0cbe9-dac2-43df-9569-6899c747f7db",
    "_uuid": "3b912b16-3c11-41f4-81e9-2f887b65c3dd",
    "collapsed": false,
    "execution": {
     "iopub.execute_input": "2025-04-27T16:50:52.442364Z",
     "iopub.status.busy": "2025-04-27T16:50:52.442088Z",
     "iopub.status.idle": "2025-04-27T16:50:52.449082Z",
     "shell.execute_reply": "2025-04-27T16:50:52.448061Z"
    },
    "jupyter": {
     "outputs_hidden": false
    },
    "papermill": {
     "duration": 0.018069,
     "end_time": "2025-04-27T16:50:52.450845",
     "exception": false,
     "start_time": "2025-04-27T16:50:52.432776",
     "status": "completed"
    },
    "tags": []
   },
   "outputs": [
    {
     "data": {
      "text/plain": [
       "0.15494411061331048"
      ]
     },
     "execution_count": 27,
     "metadata": {},
     "output_type": "execute_result"
    }
   ],
   "source": [
    "r2_score(y_train, y_predicted_train)"
   ]
  },
  {
   "cell_type": "code",
   "execution_count": 28,
   "id": "9497ad44",
   "metadata": {
    "_cell_guid": "815856ad-aa0e-4769-a107-12d512c468ef",
    "_uuid": "54524cf6-849b-4bd5-8aa8-6123629d7b46",
    "collapsed": false,
    "execution": {
     "iopub.execute_input": "2025-04-27T16:50:52.469579Z",
     "iopub.status.busy": "2025-04-27T16:50:52.469277Z",
     "iopub.status.idle": "2025-04-27T16:50:52.474433Z",
     "shell.execute_reply": "2025-04-27T16:50:52.473356Z"
    },
    "jupyter": {
     "outputs_hidden": false
    },
    "papermill": {
     "duration": 0.016503,
     "end_time": "2025-04-27T16:50:52.476075",
     "exception": false,
     "start_time": "2025-04-27T16:50:52.459572",
     "status": "completed"
    },
    "tags": []
   },
   "outputs": [],
   "source": [
    "y_predicted_validate = [w_final * i + b_final for i in x_validation]"
   ]
  },
  {
   "cell_type": "code",
   "execution_count": 29,
   "id": "a1b2d760",
   "metadata": {
    "execution": {
     "iopub.execute_input": "2025-04-27T16:50:52.495133Z",
     "iopub.status.busy": "2025-04-27T16:50:52.494833Z",
     "iopub.status.idle": "2025-04-27T16:50:52.501561Z",
     "shell.execute_reply": "2025-04-27T16:50:52.500640Z"
    },
    "papermill": {
     "duration": 0.01814,
     "end_time": "2025-04-27T16:50:52.503181",
     "exception": false,
     "start_time": "2025-04-27T16:50:52.485041",
     "status": "completed"
    },
    "tags": []
   },
   "outputs": [
    {
     "data": {
      "text/plain": [
       "0.45125560623548366"
      ]
     },
     "execution_count": 29,
     "metadata": {},
     "output_type": "execute_result"
    }
   ],
   "source": [
    "r2_score(y_validation, y_predicted_validate)"
   ]
  },
  {
   "cell_type": "code",
   "execution_count": 30,
   "id": "dda2d74a",
   "metadata": {
    "execution": {
     "iopub.execute_input": "2025-04-27T16:50:52.522113Z",
     "iopub.status.busy": "2025-04-27T16:50:52.521787Z",
     "iopub.status.idle": "2025-04-27T16:50:52.699570Z",
     "shell.execute_reply": "2025-04-27T16:50:52.698520Z"
    },
    "papermill": {
     "duration": 0.189259,
     "end_time": "2025-04-27T16:50:52.701326",
     "exception": false,
     "start_time": "2025-04-27T16:50:52.512067",
     "status": "completed"
    },
    "tags": []
   },
   "outputs": [
    {
     "data": {
      "text/plain": [
       "<matplotlib.collections.PathCollection at 0x7d40c85b2f10>"
      ]
     },
     "execution_count": 30,
     "metadata": {},
     "output_type": "execute_result"
    },
    {
     "data": {
      "image/png": "[encoded data removed]",
      "text/plain": [
       "<Figure size 640x480 with 1 Axes>"
      ]
     },
     "metadata": {},
     "output_type": "display_data"
    }
   ],
   "source": [
    "plt.scatter(x_validation, y_validation)"
   ]
  },
  {
   "cell_type": "code",
   "execution_count": 31,
   "id": "5c14da57",
   "metadata": {
    "execution": {
     "iopub.execute_input": "2025-04-27T16:50:52.724264Z",
     "iopub.status.busy": "2025-04-27T16:50:52.723896Z",
     "iopub.status.idle": "2025-04-27T16:50:52.925372Z",
     "shell.execute_reply": "2025-04-27T16:50:52.924398Z"
    },
    "papermill": {
     "duration": 0.21534,
     "end_time": "2025-04-27T16:50:52.927033",
     "exception": false,
     "start_time": "2025-04-27T16:50:52.711693",
     "status": "completed"
    },
    "tags": []
   },
   "outputs": [
    {
     "data": {
      "text/plain": [
       "<matplotlib.collections.PathCollection at 0x7d40c85c5d50>"
      ]
     },
     "execution_count": 31,
     "metadata": {},
     "output_type": "execute_result"
    },
    {
     "data": {
      "image/png": "[encoded data removed]",
      "text/plain": [
       "<Figure size 640x480 with 1 Axes>"
      ]
     },
     "metadata": {},
     "output_type": "display_data"
    }
   ],
   "source": [
    "plt.scatter(x_train, y_train)"
   ]
  },
  {
   "cell_type": "code",
   "execution_count": 32,
   "id": "44f65a91",
   "metadata": {
    "_cell_guid": "f92dec3b-324e-408b-b1ec-e2a98ca58b7e",
    "_uuid": "cb9bc56d-7383-4757-8475-24c7c19cdfef",
    "collapsed": false,
    "execution": {
     "iopub.execute_input": "2025-04-27T16:50:52.949362Z",
     "iopub.status.busy": "2025-04-27T16:50:52.948944Z",
     "iopub.status.idle": "2025-04-27T16:50:52.955932Z",
     "shell.execute_reply": "2025-04-27T16:50:52.954696Z"
    },
    "jupyter": {
     "outputs_hidden": false
    },
    "papermill": {
     "duration": 0.020254,
     "end_time": "2025-04-27T16:50:52.957363",
     "exception": false,
     "start_time": "2025-04-27T16:50:52.937109",
     "status": "completed"
    },
    "tags": []
   },
   "outputs": [
    {
     "name": "stdout",
     "output_type": "stream",
     "text": [
      "A house with the size(sq. m) of 20 has a price of: 5142.957292495854 dollars\n",
      "A house with the size(sq m) of 30 has a price of: 7714.372401445551 dollars\n",
      "A house with the size(sq m) of 50 has a price of: 12857.202619344946 dollars\n",
      "A house with the size(sq m) of 60 has a price of: 15428.617728294643 dollars\n",
      "A house with the size(sq m) of 4000 has a price of: 1028566.1706544753 dollars\n"
     ]
    }
   ],
   "source": [
    "size_of_house = 20\n",
    "print(f\"A house with the size(sq. m) of {size_of_house} has a price of: {w_final * size_of_house + b_final} dollars\")\n",
    "size_of_house = 30\n",
    "print(f\"A house with the size(sq m) of {size_of_house} has a price of: {w_final * size_of_house + b_final} dollars\")\n",
    "size_of_house = 50\n",
    "print(f\"A house with the size(sq m) of {size_of_house} has a price of: {w_final * size_of_house + b_final} dollars\")\n",
    "size_of_house = 60\n",
    "print(f\"A house with the size(sq m) of {size_of_house} has a price of: {w_final * size_of_house + b_final} dollars\")\n",
    "size_of_house = 4000\n",
    "print(f\"A house with the size(sq m) of {size_of_house} has a price of: {w_final * size_of_house + b_final} dollars\")"
   ]
  },
  {
   "cell_type": "code",
   "execution_count": 33,
   "id": "9e4b206f",
   "metadata": {
    "_cell_guid": "9b7c445d-9c3e-47be-93ac-5d52871f5eb7",
    "_uuid": "ae831845-1196-4922-8474-0aa3e41c8ffd",
    "collapsed": false,
    "execution": {
     "iopub.execute_input": "2025-04-27T16:50:52.979981Z",
     "iopub.status.busy": "2025-04-27T16:50:52.979641Z",
     "iopub.status.idle": "2025-04-27T16:50:53.166531Z",
     "shell.execute_reply": "2025-04-27T16:50:53.165471Z"
    },
    "jupyter": {
     "outputs_hidden": false
    },
    "papermill": {
     "duration": 0.201219,
     "end_time": "2025-04-27T16:50:53.168429",
     "exception": false,
     "start_time": "2025-04-27T16:50:52.967210",
     "status": "completed"
    },
    "tags": []
   },
   "outputs": [
    {
     "data": {
      "image/png": "[encoded data removed]",
      "text/plain": [
       "<Figure size 640x480 with 1 Axes>"
      ]
     },
     "metadata": {},
     "output_type": "display_data"
    }
   ],
   "source": [
    "plt.scatter(x_train, y_train)\n",
    "plt.plot(x_train, w_final * x_train + b_final, c='r')\n",
    "plt.show()"
   ]
  },
  {
   "cell_type": "code",
   "execution_count": 34,
   "id": "7c426acf",
   "metadata": {
    "execution": {
     "iopub.execute_input": "2025-04-27T16:50:53.193329Z",
     "iopub.status.busy": "2025-04-27T16:50:53.192978Z",
     "iopub.status.idle": "2025-04-27T16:50:53.363698Z",
     "shell.execute_reply": "2025-04-27T16:50:53.362796Z"
    },
    "papermill": {
     "duration": 0.185607,
     "end_time": "2025-04-27T16:50:53.365465",
     "exception": false,
     "start_time": "2025-04-27T16:50:53.179858",
     "status": "completed"
    },
    "tags": []
   },
   "outputs": [
    {
     "data": {
      "image/png": "[encoded data removed]",
      "text/plain": [
       "<Figure size 640x480 with 1 Axes>"
      ]
     },
     "metadata": {},
     "output_type": "display_data"
    }
   ],
   "source": [
    "plt.scatter(x_validation, y_validation)\n",
    "plt.plot(x_train, w_final * x_train + b_final, c='r')\n",
    "plt.show()"
   ]
  },
  {
   "cell_type": "markdown",
   "id": "27caddc0",
   "metadata": {
    "_cell_guid": "5bfd4144-18a2-46e6-b7cc-d1d9b3f0044e",
    "_uuid": "2ba127a2-2601-4bc9-ae79-ab8fef042f2f",
    "collapsed": false,
    "jupyter": {
     "outputs_hidden": false
    },
    "papermill": {
     "duration": 0.010029,
     "end_time": "2025-04-27T16:50:53.386190",
     "exception": false,
     "start_time": "2025-04-27T16:50:53.376161",
     "status": "completed"
    },
    "tags": []
   },
   "source": []
  }
 ],
 "metadata": {
  "kaggle": {
   "accelerator": "none",
   "dataSources": [
    {
     "datasetId": 7267575,
     "sourceId": 11590071,
     "sourceType": "datasetVersion"
    }
   ],
   "dockerImageVersionId": 31012,
   "isGpuEnabled": false,
   "isInternetEnabled": false,
   "language": "python",
   "sourceType": "notebook"
  },
  "kernelspec": {
   "display_name": "Python 3",
   "language": "python",
   "name": "python3"
  },
  "language_info": {
   "codemirror_mode": {
    "name": "ipython",
    "version": 3
   },
   "file_extension": ".py",
   "mimetype": "text/x-python",
   "name": "python",
   "nbconvert_exporter": "python",
   "pygments_lexer": "ipython3",
   "version": "3.11.11"
  },
  "papermill": {
   "default_parameters": {},
   "duration": 10.672547,
   "end_time": "2025-04-27T16:50:54.018435",
   "environment_variables": {},
   "exception": null,
   "input_path": "__notebook__.ipynb",
   "output_path": "__notebook__.ipynb",
   "parameters": {},
   "start_time": "2025-04-27T16:50:43.345888",
   "version": "2.6.0"
  }
 },
 "nbformat": 4,
 "nbformat_minor": 5
}
